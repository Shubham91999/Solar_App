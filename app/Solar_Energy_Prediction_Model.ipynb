{
 "cells": [
  {
   "cell_type": "markdown",
   "id": "ae1f261e",
   "metadata": {},
   "source": [
    "# Solar Energy Prediction Model Training"
   ]
  },
  {
   "cell_type": "code",
   "execution_count": 2,
   "id": "86a7961c",
   "metadata": {},
   "outputs": [
    {
     "name": "stderr",
     "output_type": "stream",
     "text": [
      "/var/folders/rw/k5d2xn3s521ckl5hkyf9k60m0000gn/T/ipykernel_59875/409337881.py:20: SettingWithCopyWarning: \n",
      "A value is trying to be set on a copy of a slice from a DataFrame\n",
      "\n",
      "See the caveats in the documentation: https://pandas.pydata.org/pandas-docs/stable/user_guide/indexing.html#returning-a-view-versus-a-copy\n",
      "  X.fillna(X.mean(), inplace=True)\n"
     ]
    },
    {
     "data": {
      "text/plain": [
       "(0.001132545290419876, 0.9999888680877248, 'solar_energy_model.pkl')"
      ]
     },
     "execution_count": 2,
     "metadata": {},
     "output_type": "execute_result"
    }
   ],
   "source": [
    "\n",
    "import pandas as pd\n",
    "from sklearn.model_selection import train_test_split\n",
    "from sklearn.ensemble import RandomForestRegressor\n",
    "from sklearn.metrics import mean_squared_error, r2_score\n",
    "import pickle\n",
    "\n",
    "# Load the dataset\n",
    "file_path = 'Merged_Dataset.csv'  # Update this path to the dataset location\n",
    "data = pd.read_csv(file_path)\n",
    "\n",
    "# Selecting the relevant columns (features and target)\n",
    "features = ['elevation', 'ghi_mean2022', 'dni_mean2022', 'dhi_mean2022', 'temp_mean2022', 'wind_mean2022', 'sp_mean2022']\n",
    "target = 'Solar_Energy2022'\n",
    "\n",
    "# Preparing the data\n",
    "X = data[features]\n",
    "y = data[target]\n",
    "\n",
    "# Handle missing values by filling them with the mean of the column\n",
    "X.fillna(X.mean(), inplace=True)\n",
    "y.fillna(y.mean(), inplace=True)\n",
    "\n",
    "# Splitting the dataset into training and testing sets\n",
    "X_train, X_test, y_train, y_test = train_test_split(X, y, test_size=0.2, random_state=42)\n",
    "\n",
    "# Initializing the model (Random Forest Regressor)\n",
    "model = RandomForestRegressor(n_estimators=100, random_state=42)\n",
    "\n",
    "# Training the model\n",
    "model.fit(X_train, y_train)\n",
    "\n",
    "# Making predictions\n",
    "y_pred = model.predict(X_test)\n",
    "\n",
    "# Evaluating the model\n",
    "mse = mean_squared_error(y_test, y_pred)\n",
    "r2 = r2_score(y_test, y_pred)\n",
    "\n",
    "# Saving the model to a pickle file\n",
    "model_filename = 'solar_energy_model.pkl'\n",
    "with open(model_filename, 'wb') as model_file:\n",
    "    pickle.dump(model, model_file)\n",
    "\n",
    "# Outputting the evaluation metrics\n",
    "mse, r2, model_filename\n"
   ]
  }
 ],
 "metadata": {
  "kernelspec": {
   "display_name": "Python 3",
   "language": "python",
   "name": "python3"
  },
  "language_info": {
   "codemirror_mode": {
    "name": "ipython",
    "version": 3
   },
   "file_extension": ".py",
   "mimetype": "text/x-python",
   "name": "python",
   "nbconvert_exporter": "python",
   "pygments_lexer": "ipython3",
   "version": "3.12.0"
  }
 },
 "nbformat": 4,
 "nbformat_minor": 5
}
